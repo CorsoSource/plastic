{
 "cells": [
  {
   "cell_type": "code",
   "execution_count": 1,
   "metadata": {},
   "outputs": [
    {
     "name": "stdout",
     "output_type": "stream",
     "text": [
      "c:\\Workspace\\Jupyter\\plastic\n"
     ]
    }
   ],
   "source": [
    "cd c:\\Workspace\\Jupyter\\plastic"
   ]
  },
  {
   "cell_type": "code",
   "execution_count": 2,
   "metadata": {},
   "outputs": [],
   "source": [
    "from plastic.connectors.sqlite import PlasticSqlite as PlasticORM, Sqlite_Connector"
   ]
  },
  {
   "cell_type": "code",
   "execution_count": 3,
   "metadata": {},
   "outputs": [],
   "source": [
    "PlasticORM._dbInfo = 'C:/Workspace/Jupyter/plastic/dev/sqlite-test.db' # ':memory:'\n",
    "PlasticORM._schema = None #'test'"
   ]
  },
  {
   "cell_type": "code",
   "execution_count": 4,
   "metadata": {},
   "outputs": [],
   "source": [
    "class Task(PlasticORM):\n",
    "    pass"
   ]
  },
  {
   "cell_type": "code",
   "execution_count": 5,
   "metadata": {},
   "outputs": [
    {
     "data": {
      "text/plain": [
       "[task(id=2,active=1,title='Another Thing',description=None),\n",
       " task(id=3,active=0,title='Skipped',description=None),\n",
       " task(id=4,active=0,title='Inactive',description=None),\n",
       " task(id=5,active=0,title='Uninteresting',description='Not much to say here.'),\n",
       " task(id=6,active=1,title='Very important',description=None)]"
      ]
     },
     "execution_count": 5,
     "metadata": {},
     "output_type": "execute_result"
    }
   ],
   "source": [
    "Task.find(Task.id[1:])"
   ]
  },
  {
   "cell_type": "code",
   "execution_count": null,
   "metadata": {},
   "outputs": [],
   "source": []
  }
 ],
 "metadata": {
  "kernelspec": {
   "display_name": "Python 3",
   "language": "python",
   "name": "python3"
  },
  "language_info": {
   "codemirror_mode": {
    "name": "ipython",
    "version": 3
   },
   "file_extension": ".py",
   "mimetype": "text/x-python",
   "name": "python",
   "nbconvert_exporter": "python",
   "pygments_lexer": "ipython3",
   "version": "3.7.4"
  }
 },
 "nbformat": 4,
 "nbformat_minor": 4
}
